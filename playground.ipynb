{
 "cells": [
  {
   "cell_type": "code",
   "execution_count": null,
   "metadata": {},
   "outputs": [],
   "source": [
    "from transformers import AutoModel, AutoProcessor\n",
    "from PIL import Image\n",
    "import torch\n",
    "import requests\n",
    "\n",
    "# Load the pre-trained model and processor.\n",
    "# Make sure to choose a SigLIP2 checkpoint—for example, \"google/siglip2-base-patch16-224\".\n",
    "model = AutoModel.from_pretrained(\"google/siglip2-base-patch16-224\")\n",
    "processor = AutoProcessor.from_pretrained(\"google/siglip2-base-patch16-224\")\n",
    "\n",
    "# Example: load an image from a URL.\n",
    "url = \"http://images.cocodataset.org/val2017/000000039769.jpg\"\n",
    "image = Image.open(requests.get(url, stream=True).raw)\n",
    "\n",
    "# Preprocess the image.\n",
    "inputs = processor(images=image, return_tensors=\"pt\")\n",
    "\n",
    "# Get the image embeddings without the logits.\n",
    "# The get_image_features method returns the embeddings produced by the vision encoder.\n",
    "with torch.no_grad():\n",
    "    image_embeddings = model.get_image_features(**inputs)\n",
    "\n",
    "print(\"Embedding shape:\", image_embeddings.shape)"
   ]
  }
 ],
 "metadata": {
  "kernelspec": {
   "display_name": "conda_vid_eval_3",
   "language": "python",
   "name": "conda_vid_eval"
  },
  "language_info": {
   "name": "python",
   "version": "3.11.11"
  }
 },
 "nbformat": 4,
 "nbformat_minor": 2
}
